{
 "cells": [
  {
   "cell_type": "code",
   "execution_count": null,
   "metadata": {},
   "outputs": [],
   "source": [
    "import vlc\n",
    "from flask import Flask,render_template,request\n",
    "import spotipy \n",
    "from spotipy.oauth2 import SpotifyClientCredentials\n",
    "import requests"
   ]
  },
  {
   "cell_type": "code",
   "execution_count": null,
   "metadata": {},
   "outputs": [],
   "source": [
    "SPOTIPY_CLIENT_ID='d0fb3f6135d14097bde522d8fa597197'\n",
    "SPOTIPY_CLIENT_SECRET='465c0a4970d545a9a1d29f59209c40d0'\n",
    "auth_manager = SpotifyClientCredentials(SPOTIPY_CLIENT_ID,SPOTIPY_CLIENT_SECRET)\n",
    "sp = spotipy.Spotify(auth_manager=auth_manager)\n",
    "p = vlc.MediaPlayer()"
   ]
  },
  {
   "cell_type": "code",
   "execution_count": null,
   "metadata": {},
   "outputs": [],
   "source": [
    "flag = ''\n",
    "sl = 0\n",
    "genres = []\n",
    "cat_id = ''\n",
    "lat = '30.9010'#current latitude\n",
    "lng = '75.8573'#current longitide\n",
    "app = Flask(__name__)"
   ]
  },
  {
   "cell_type": "code",
   "execution_count": null,
   "metadata": {},
   "outputs": [],
   "source": [
    "def dest_weather(city):\n",
    "    api_key = \"a9170a3ab84748cc681f9fe929b19808\"\n",
    "    base_url = \"http://api.openweathermap.org/data/2.5/weather?\"\n",
    "    city_name=city \n",
    "    complete_url = base_url + \"appid=\" + api_key + \"&q=\" + city_name \n",
    "    response = requests.get(complete_url) \n",
    "    x = response.json() \n",
    "    if x[\"cod\"] != \"404\": \n",
    "        y = x[\"main\"] \n",
    "        current_temperature = y[\"temp\"] \n",
    "        z = x[\"weather\"] \n",
    "        weather_description = z[0][\"description\"] \n",
    "        icon = z[0][\"icon\"] \n",
    "        return [current_temperature+'%'+weather_description+'%'+icon]"
   ]
  },
  {
   "cell_type": "code",
   "execution_count": null,
   "metadata": {},
   "outputs": [],
   "source": [
    "@app.route('/',methods=['POST','GET'])\n",
    "def home():\n",
    "    if(request.form.get('dest')!=None and request.form.get('dest')!='NA'):\n",
    "        res = dest_weather(request.form.get('dest'))\n",
    "        res = res.split('%')\n",
    "        return render_template('dashboard.html',temp = res[0], desc = res[1],icon = res[2])\n",
    "    elif(request.form.get('dest')=='NA'):\n",
    "        return render_template('dashboard.html',temp = '', desc = '',icon = '')\n",
    "    else:\n",
    "        return render_template('homepage.html')\n",
    "\n",
    "app.run('0.0.0.0', 10001)"
   ]
  },
  {
   "cell_type": "code",
   "execution_count": null,
   "metadata": {},
   "outputs": [],
   "source": [
    "def play_track(gen):\n",
    "    a = sp.recommendations(seed_genres = gen,limit=1,country=['IN'])\n",
    "    song = (a['tracks'][0]['name'])\n",
    "    url = (a['tracks'][0]['preview_url'])\n",
    "    explicit = (a['tracks'][0]['explicit'])\n",
    "    song_type = (a['tracks'][0]['type'])\n",
    "    name = (a['tracks'][0]['album']['artists'][0]['name'])\n",
    "    if(song_type != 'track' or url==None):\n",
    "        play_track(gen)\n",
    "    play(url)\n",
    "    return (song+'^'+url+'^'+explicit+'^'+name)"
   ]
  },
  {
   "cell_type": "code",
   "execution_count": null,
   "metadata": {},
   "outputs": [],
   "source": [
    "def play_plist(cat_id,s1):\n",
    "    plist = sp.category_playlists(category_id=cat_id,country='IN')\n",
    "    num = len(plist['playlists']['items'])\n",
    "    n = sl % num\n",
    "    plist_id = (plist['playlists']['items'][n]['id'])\n",
    "    q = sp.playlist(playlist_id=plist_id,fields='tracks')\n",
    "    url = (q['tracks']['items'][0]['track']['preview_url'])\n",
    "    name = (q['tracks']['items'][0]['track']['artists'][0]['name'])\n",
    "    song = (q['tracks']['items'][0]['track']['name'])\n",
    "    if(url != None):\n",
    "        play(url)\n",
    "        return (song+'^'+url+'^'+'^'+name)\n",
    "    else:\n",
    "        s1+=1\n",
    "        play_list(cat_id,s1)"
   ]
  },
  {
   "cell_type": "code",
   "execution_count": null,
   "metadata": {},
   "outputs": [],
   "source": [
    "def play(url):\n",
    "    p = vlc.MediaPlayer(url)\n",
    "    p.play()\n",
    "@app.route('/stop',methods=['POST','GET'])\n",
    "def stop():\n",
    "    p.stop()\n",
    "@app.route('/pause',methods=['POST','GET'])\n",
    "def pause():\n",
    "    p.pause()"
   ]
  },
  {
   "cell_type": "code",
   "execution_count": null,
   "metadata": {},
   "outputs": [],
   "source": [
    "@app.route('/song',methods=['POST','GET'])\n",
    "def song():\n",
    "    user = request.form['mood']\n",
    "    res = ''\n",
    "    if(user == 'happy'):\n",
    "        flag = 'track'\n",
    "        genres = ['chill','dance','disney','road-trip','opera','salsa','happy'] #add happy tags\n",
    "        res = play_track(genres)\n",
    "    elif (user == 'sad'):\n",
    "        flag = 'track'\n",
    "        genres = ['sad','sleep','piano'] #add sad tags\n",
    "        res = play_track(genres)\n",
    "    elif (user == 'party'):\n",
    "        flag = 'track'\n",
    "        genres = ['edm', 'dance', 'groove', 'party', 'new-release','road-trip', 'club'] #add party tags\n",
    "        res = play_track(genres)\n",
    "    elif (user == 'romantic'):\n",
    "        flag = 'track'\n",
    "        genres = ['road-trip', 'romance', 'jazz','salsa','french','indian'] #add romantic tags\n",
    "        res = play_track(genres)\n",
    "    elif (user == 'weather'):\n",
    "        flag = 'track'\n",
    "        wthr = weather(get_city(lat,lng))\n",
    "        if(wthr == 'hot'):\n",
    "            genres = ['summer','Acoustic'] \n",
    "        elif(wthr == 'cold'):\n",
    "            genres = ['chill','holidays']\n",
    "        else: #rain\n",
    "            genres = ['rainy-day', 'guitar']\n",
    "        res = play_track(genres)\n",
    "    elif (user == 'region'):\n",
    "        flag = 'playlist'\n",
    "        state = get_region(lat,lng)\n",
    "        if(state == 'Punjab'):\n",
    "            cat_id = 'punjabi'\n",
    "        elif(state == 'Tamil Nadu'):\n",
    "            cat_id = 'tamil'\n",
    "        elif(state == 'Maharashtra'):\n",
    "            cat_id = 'marathi' \n",
    "        s1+=1\n",
    "        res = play_plist(cat_id,sl)\n",
    "    return res"
   ]
  },
  {
   "cell_type": "code",
   "execution_count": null,
   "metadata": {},
   "outputs": [],
   "source": [
    "@app.route('/next',methods=['POST','GET'])\n",
    "def next():\n",
    "    if(flag == 'track'):\n",
    "        stop()\n",
    "        play_track(genres)\n",
    "    else:\n",
    "        stop()\n",
    "        s1+=1\n",
    "        play_plist(cat_id,s1)"
   ]
  },
  {
   "cell_type": "code",
   "execution_count": null,
   "metadata": {},
   "outputs": [],
   "source": [
    "def weather(city):\n",
    "    api_key = \"a9170a3ab84748cc681f9fe929b19808\"\n",
    "    base_url = \"http://api.openweathermap.org/data/2.5/weather?\"\n",
    "    city_name=city\n",
    "    complete_url = base_url + \"appid=\" + api_key + \"&q=\" + city_name \n",
    "    response = requests.get(complete_url) \n",
    "    x = response.json() \n",
    "    if x[\"cod\"] != \"404\": \n",
    "        y = x[\"main\"] \n",
    "        current_temperature = y[\"temp\"] \n",
    "        current_pressure = y[\"pressure\"] \n",
    "        current_humidiy = y[\"humidity\"] \n",
    "        z = x[\"weather\"] \n",
    "        weather_description = z[0][\"main\"] \n",
    "        l=[str(current_temperature-273),str(current_pressure),str(current_humidiy), str(weather_description)]\n",
    "    if ('Drizzle' in l[3] or 'Rain' in l[3] or 'Thunderstorm' in l[3] or 'Snow' in l[3]):\n",
    "        return 'rain'\n",
    "    if(float(l[0])>25.0):\n",
    "        return 'hot'\n",
    "    elif(float(l[0])<=25.0):\n",
    "        return 'cold'"
   ]
  },
  {
   "cell_type": "code",
   "execution_count": null,
   "metadata": {},
   "outputs": [],
   "source": [
    "def get_city(lat,lng):\n",
    "    lat = str(lat)\n",
    "    lng = str(lng)\n",
    "    url = 'https://api.opencagedata.com/geocode/v1/json?q='+lat+','+lng+'&key=30afd099cb2243b0a2f2bc3ec78b7ae5&pretty=1'\n",
    "    response = requests.get(url) \n",
    "    x = response.json()\n",
    "    return (x[\"results\"][0]['components']['city'])"
   ]
  },
  {
   "cell_type": "code",
   "execution_count": null,
   "metadata": {},
   "outputs": [],
   "source": [
    "def get_region(lat,lng):\n",
    "    lat = str(lat)\n",
    "    lng = str(lng)\n",
    "    url = 'https://api.opencagedata.com/geocode/v1/json?q='+lat+','+lng+'&key=30afd099cb2243b0a2f2bc3ec78b7ae5&pretty=1'\n",
    "    response = requests.get(url) \n",
    "    x = response.json()\n",
    "    return (x[\"results\"][0]['components']['state'])"
   ]
  },
  {
   "cell_type": "code",
   "execution_count": null,
   "metadata": {},
   "outputs": [],
   "source": [
    "import requests\n",
    "from bs4 import BeautifulSoup,SoupStrainer\n",
    "import httplib2\n",
    "from googlesearch import search \n",
    "import os\n",
    "from selenium import webdriver\n",
    "def souvenir(city):\n",
    "  url=[]\n",
    "  try: \n",
    "      from googlesearch import search \n",
    "  except ImportError:  \n",
    "      print(\"No module named 'google' found\") \n",
    "  # to search \n",
    "  query = \"whatshot \"+city+ \" souvenirs\"\n",
    "  print(query)\n",
    "  for j in search(query, tld=\"co.in\", num=10, stop=2, pause=2): \n",
    "      url.append(j)\n",
    "  print(url)\n",
    "  http = httplib2.Http()\n",
    "  a=url[0]\n",
    "  status, response = http.request(a)\n",
    "  sop=BeautifulSoup(response,'lxml' )\n",
    "  details=[]\n",
    "  for link in BeautifulSoup(response, 'html.parser',parseOnlyThese=SoupStrainer('h3')):\n",
    "    details.append(link.text)\n",
    "  print(details)\n",
    "  for link in BeautifulSoup(response, 'html.parser',parseOnlyThese=SoupStrainer('h3')):\n",
    "    print(link.text)\n",
    "  for link in BeautifulSoup(response, 'html.parser',parseOnlyThese=SoupStrainer('b')):\n",
    "    print(link.text)"
   ]
  }
 ],
 "metadata": {
  "kernelspec": {
   "display_name": "Python 3",
   "language": "python",
   "name": "python3"
  },
  "language_info": {
   "codemirror_mode": {
    "name": "ipython",
    "version": 3
   },
   "file_extension": ".py",
   "mimetype": "text/x-python",
   "name": "python",
   "nbconvert_exporter": "python",
   "pygments_lexer": "ipython3",
   "version": "3.7.4"
  }
 },
 "nbformat": 4,
 "nbformat_minor": 2
}
